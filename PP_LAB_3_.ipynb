{
  "nbformat": 4,
  "nbformat_minor": 0,
  "metadata": {
    "colab": {
      "provenance": [],
      "authorship_tag": "ABX9TyPMstk7aVFtN90lcO4OrSJx",
      "include_colab_link": true
    },
    "kernelspec": {
      "name": "python3",
      "display_name": "Python 3"
    },
    "language_info": {
      "name": "python"
    }
  },
  "cells": [
    {
      "cell_type": "markdown",
      "metadata": {
        "id": "view-in-github",
        "colab_type": "text"
      },
      "source": [
        "<a href=\"https://colab.research.google.com/github/it221291/Python/blob/main/PP_LAB_3_.ipynb\" target=\"_parent\"><img src=\"https://colab.research.google.com/assets/colab-badge.svg\" alt=\"Open In Colab\"/></a>"
      ]
    },
    {
      "cell_type": "code",
      "execution_count": 1,
      "metadata": {
        "colab": {
          "base_uri": "https://localhost:8080/"
        },
        "id": "5noXf9Ii1I2d",
        "outputId": "e0a08d33-affd-4860-dab2-bcd0355c7832"
      },
      "outputs": [
        {
          "output_type": "stream",
          "name": "stdout",
          "text": [
            "list to array :\n",
            "[1 2 3 4 5 6 7 8 9]\n",
            "tuple to array :\n",
            "[[8 4 6]\n",
            " [1 2 3]]\n"
          ]
        }
      ],
      "source": [
        "#1. i) Write a program to convert a list and tuple into arrays.\n",
        "import numpy as np\n",
        "my_list = [1,2,3,4,5,6,7,8,9]\n",
        "print(\"list to array :\") \n",
        "print(np.asarray(my_list))\n",
        "my_tuple = ([8,4,6],[1,2,3])\n",
        "print(\"tuple to array :\")\n",
        "print(np.asarray(my_tuple))"
      ]
    },
    {
      "cell_type": "code",
      "source": [
        "#ii) Write a program to find common values between two arrays.\n",
        "import numpy as np \n",
        "array1 =np.array([0,10,20,40,60])\n",
        "print(\"Array 1:\" ,array1)\n",
        "array2= [10,30,40]\n",
        "print(\"Array 2:\",array2)\n",
        "print(\"common values between two arrays:\")\n",
        "print(np.intersect1d(array1,array2))\n"
      ],
      "metadata": {
        "colab": {
          "base_uri": "https://localhost:8080/"
        },
        "id": "YR9ANiMI497N",
        "outputId": "5ab5cd9b-e270-4e6b-df58-130e01cce13c"
      },
      "execution_count": 3,
      "outputs": [
        {
          "output_type": "stream",
          "name": "stdout",
          "text": [
            "Array 1: [ 0 10 20 40 60]\n",
            "Array 2: [10, 30, 40]\n",
            "common values between two arrays:\n",
            "[10 40]\n"
          ]
        }
      ]
    },
    {
      "cell_type": "code",
      "source": [
        "# 2. Write a function called gcd that takes parameters a and b and returns their greatest common divisor.\n",
        "def GCD(x,y):\n",
        "  while(y):\n",
        "    x,y=y,x%y\n",
        "  return abs(x)\n",
        "print(\"the gcd of 60 and 120 is:\")\n",
        "print(GCD(60,120))"
      ],
      "metadata": {
        "colab": {
          "base_uri": "https://localhost:8080/"
        },
        "id": "h3kb7GTu6wqO",
        "outputId": "0eb58b03-729f-46df-a0d3-6b260edb3003"
      },
      "execution_count": 6,
      "outputs": [
        {
          "output_type": "stream",
          "name": "stdout",
          "text": [
            "the gcd of 60 and 120 is:\n",
            "60\n"
          ]
        }
      ]
    },
    {
      "cell_type": "code",
      "source": [
        "#3. Write a function called palindrome that takes a string argument and returns True if it is a palindrome and False otherwise. Remember that you can use the built-in function len to check the length of a string \n",
        "def isPalindrome(s):\n",
        "    return s == s[::-1]\n",
        "  \n",
        "  \n",
        "# Driver code\n",
        "s = \"malayalam\"\n",
        "ans = isPalindrome(s)\n",
        "  \n",
        "if ans:\n",
        "    print(\"Yes\")\n",
        "else:\n",
        "    print(\"No\")"
      ],
      "metadata": {
        "colab": {
          "base_uri": "https://localhost:8080/"
        },
        "id": "7c7b43nf9qsQ",
        "outputId": "a1ba1435-fd46-4ff9-82a2-679d31b5fe30"
      },
      "execution_count": 7,
      "outputs": [
        {
          "output_type": "stream",
          "name": "stdout",
          "text": [
            "Yes\n"
          ]
        }
      ]
    }
  ]
}