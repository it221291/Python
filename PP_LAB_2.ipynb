{
  "nbformat": 4,
  "nbformat_minor": 0,
  "metadata": {
    "colab": {
      "provenance": [],
      "authorship_tag": "ABX9TyNTenIoeJxlgzCu9T83rrkZ",
      "include_colab_link": true
    },
    "kernelspec": {
      "name": "python3",
      "display_name": "Python 3"
    },
    "language_info": {
      "name": "python"
    }
  },
  "cells": [
    {
      "cell_type": "markdown",
      "metadata": {
        "id": "view-in-github",
        "colab_type": "text"
      },
      "source": [
        "<a href=\"https://colab.research.google.com/github/it221291/Python/blob/main/PP_LAB_2.ipynb\" target=\"_parent\"><img src=\"https://colab.research.google.com/assets/colab-badge.svg\" alt=\"Open In Colab\"/></a>"
      ]
    },
    {
      "cell_type": "code",
      "execution_count": null,
      "metadata": {
        "colab": {
          "base_uri": "https://localhost:8080/"
        },
        "id": "BwVItkJtAsrI",
        "outputId": "2316e977-777c-4088-826f-260b7a493dcf"
      },
      "outputs": [
        {
          "output_type": "stream",
          "name": "stdout",
          "text": [
            "enter the number:5\n",
            "5\n",
            "44\n",
            "333\n",
            "2222\n",
            "11111\n"
          ]
        }
      ],
      "source": [
        "#1. Print the below triangle using for loop. 5 44 333 2222 1111\n",
        "n=int(input(\"enter the number:\"))\n",
        "for i in range(0,n):\n",
        " for j in range(0,i+1):\n",
        "  print(n,end=\"\")\n",
        " n=n-1\n",
        " print(\"\\r\")"
      ]
    },
    {
      "cell_type": "code",
      "source": [
        "#2. Write a program to check whether the given input is digit or lowercase character or uppercase character or a special character (use &#39;if-else-if&#39; ladder)\n",
        "ch=input(\"enter a character:\")\n",
        "if (ch >='A' and ch <='Z'):\n",
        "  print(ch,\"is a upper case character\")\n",
        "elif(ch>='a' and ch<='z'):\n",
        "  print (ch,\" is a lower case character\")\n",
        "else:\n",
        "  print(ch,\"is a digit\")\n",
        "  check('1')"
      ],
      "metadata": {
        "colab": {
          "base_uri": "https://localhost:8080/"
        },
        "id": "1gK_IO1EL4xN",
        "outputId": "09bb527b-350c-48ce-9368-9515075128c2"
      },
      "execution_count": null,
      "outputs": [
        {
          "output_type": "stream",
          "name": "stdout",
          "text": [
            "enter a character:K\n",
            "K is a upper case character\n"
          ]
        }
      ]
    },
    {
      "cell_type": "code",
      "source": [
        "#3. Python Program to Print the Fibonacci sequence using while loop\n",
        "n=int(input(\"enter value of'n'\"))\n",
        "a=0\n",
        "b=1\n",
        "sum=0\n",
        "count=1\n",
        "print(\"Fibonacci series: \",end=\"\")\n",
        "while(count<=n):\n",
        "  print(sum,end=\"\")\n",
        "  count+=1\n",
        "  a=b\n",
        "  b=sum\n",
        "  sum=a+b\n"
      ],
      "metadata": {
        "id": "6mk957vwNzYk",
        "colab": {
          "base_uri": "https://localhost:8080/"
        },
        "outputId": "e92454e2-7047-4f33-dc49-b42ea41fb1d6"
      },
      "execution_count": null,
      "outputs": [
        {
          "output_type": "stream",
          "name": "stdout",
          "text": [
            "enter value of'n'7\n",
            "Fibonacci series: 0112358"
          ]
        }
      ]
    },
    {
      "cell_type": "code",
      "source": [
        "#4. Python program to print all prime numbers in a given interval (use break)\n",
        "lower_value=int(input(\"enter the lowest range value :\"))\n",
        "higher_value=int(input(\"enter the highest range value:\"))\n",
        "print(\"the prime numbers in the range are:\")\n",
        "for numbers in range (lower_value,higher_value+1):\n",
        "  if numbers>1:\n",
        "    for i in range (2,numbers):\n",
        "      if numbers%i==0:\n",
        "        break\n",
        "      else:\n",
        "        print(numbers)"
      ],
      "metadata": {
        "colab": {
          "base_uri": "https://localhost:8080/"
        },
        "id": "gei48_RTs330",
        "outputId": "03266c7b-593e-4eb7-dcc4-71ffedba8007"
      },
      "execution_count": null,
      "outputs": [
        {
          "output_type": "stream",
          "name": "stdout",
          "text": [
            "enter the lowest range value :40\n",
            "enter the highest range value:50\n",
            "the prime numbers in the range are:\n",
            "41\n",
            "41\n",
            "41\n",
            "41\n",
            "41\n",
            "41\n",
            "41\n",
            "41\n",
            "41\n",
            "41\n",
            "41\n",
            "41\n",
            "41\n",
            "41\n",
            "41\n",
            "41\n",
            "41\n",
            "41\n",
            "41\n",
            "41\n",
            "41\n",
            "41\n",
            "41\n",
            "41\n",
            "41\n",
            "41\n",
            "41\n",
            "41\n",
            "41\n",
            "41\n",
            "41\n",
            "41\n",
            "41\n",
            "41\n",
            "41\n",
            "41\n",
            "41\n",
            "41\n",
            "41\n",
            "43\n",
            "43\n",
            "43\n",
            "43\n",
            "43\n",
            "43\n",
            "43\n",
            "43\n",
            "43\n",
            "43\n",
            "43\n",
            "43\n",
            "43\n",
            "43\n",
            "43\n",
            "43\n",
            "43\n",
            "43\n",
            "43\n",
            "43\n",
            "43\n",
            "43\n",
            "43\n",
            "43\n",
            "43\n",
            "43\n",
            "43\n",
            "43\n",
            "43\n",
            "43\n",
            "43\n",
            "43\n",
            "43\n",
            "43\n",
            "43\n",
            "43\n",
            "43\n",
            "43\n",
            "43\n",
            "43\n",
            "43\n",
            "45\n",
            "47\n",
            "47\n",
            "47\n",
            "47\n",
            "47\n",
            "47\n",
            "47\n",
            "47\n",
            "47\n",
            "47\n",
            "47\n",
            "47\n",
            "47\n",
            "47\n",
            "47\n",
            "47\n",
            "47\n",
            "47\n",
            "47\n",
            "47\n",
            "47\n",
            "47\n",
            "47\n",
            "47\n",
            "47\n",
            "47\n",
            "47\n",
            "47\n",
            "47\n",
            "47\n",
            "47\n",
            "47\n",
            "47\n",
            "47\n",
            "47\n",
            "47\n",
            "47\n",
            "47\n",
            "47\n",
            "47\n",
            "47\n",
            "47\n",
            "47\n",
            "47\n",
            "47\n",
            "49\n",
            "49\n",
            "49\n",
            "49\n",
            "49\n"
          ]
        }
      ]
    },
    {
      "cell_type": "code",
      "source": [
        "#5. Write a Python program to check whether number is positive,negative or zero\n",
        "n=float(input(\"input a number:\"))\n",
        "if n>=0:\n",
        "  if n==0:\n",
        "    print(\"it is a zero\")\n",
        "  else:\n",
        "    print('number is positive number')\n",
        "else:\n",
        "  print(\"number is negative number\")\n",
        "  "
      ],
      "metadata": {
        "colab": {
          "base_uri": "https://localhost:8080/"
        },
        "id": "m4rFJYD_vCjk",
        "outputId": "657c6bea-e9ba-4304-c025-b411e67dd76f"
      },
      "execution_count": null,
      "outputs": [
        {
          "output_type": "stream",
          "name": "stdout",
          "text": [
            "input a number:30\n",
            "number is positive number\n"
          ]
        }
      ]
    },
    {
      "cell_type": "code",
      "source": [
        "#6. Write a Python program to check whether the given input is in the given range\n",
        "def test_range(n):\n",
        "  if n is range(3,9):\n",
        "    print(\"%s is in the range \"%str(n))\n",
        "  else:\n",
        "    print(\"the numbers is outside the given range\")\n",
        "test_range(n)"
      ],
      "metadata": {
        "colab": {
          "base_uri": "https://localhost:8080/"
        },
        "id": "0Aevy3bNwSQO",
        "outputId": "8ab8365a-d9e2-4893-e090-936e1c48af8c"
      },
      "execution_count": null,
      "outputs": [
        {
          "output_type": "stream",
          "name": "stdout",
          "text": [
            "the numbers is outside the given range\n"
          ]
        }
      ]
    },
    {
      "cell_type": "code",
      "source": [
        "#7. Write a Python program to find the largest among 3 numbers take numbers using multiple assignment\n",
        "num1=float(input(\"enter first number:\"))\n",
        "num2=float(input(\"enter the second number:\"))\n",
        "num3=float(input(\"enter the third number:\"))\n",
        "if(num1>=num2) and(num1>=num3):\n",
        "  largest=num1\n",
        "elif(num2>=num1)and (num2>=num3):\n",
        "  largest=num3\n",
        "print('largest')\n"
      ],
      "metadata": {
        "colab": {
          "base_uri": "https://localhost:8080/"
        },
        "id": "wXm_UyaJxKBr",
        "outputId": "205fe3dc-ad90-4b62-e918-fa6175177cc2"
      },
      "execution_count": null,
      "outputs": [
        {
          "output_type": "stream",
          "name": "stdout",
          "text": [
            "enter first number:0.6\n",
            "enter the second number:2.6\n",
            "enter the third number:6.6\n",
            "largest\n"
          ]
        }
      ]
    },
    {
      "cell_type": "code",
      "source": [
        "#8. Write a Python program to print FIZZ when a num is divisible by 3 and BUZZ when the num is divisible by 5 and FIZZ BUZZ when divisible by 5 and fizz and buzz when divisible by both\n",
        "for num in range (1,6):\n",
        "  if(num%3==0 and num%5==0):\n",
        "    print('Fizz Buzz')\n",
        "  elif(num%3==0):\n",
        "    print(\"Fizz\")\n",
        "  elif(num%5==0):\n",
        "    print(\"Buzz\")\n",
        "  else:\n",
        "    print(num)\n",
        "    "
      ],
      "metadata": {
        "colab": {
          "base_uri": "https://localhost:8080/"
        },
        "id": "ysE1Sq45z5Rw",
        "outputId": "4bec5228-2844-43f1-8249-ebcaa8f1f05a"
      },
      "execution_count": null,
      "outputs": [
        {
          "output_type": "stream",
          "name": "stdout",
          "text": [
            "1\n",
            "2\n",
            "Fizz\n",
            "4\n",
            "Buzz\n"
          ]
        }
      ]
    },
    {
      "cell_type": "code",
      "source": [
        "#9. Implement a program to print grades based on Percentage.\n",
        "percentage=float(input('enter percentage:'))\n",
        "if percentage>=90:\n",
        "  grade=\"A+\"\n",
        "elif percentage>=80:\n",
        "  grade=\"A\"\n",
        "elif percentage>=70:\n",
        "  grade=\"B+\"\n",
        "elif percentage>=60:\n",
        "  grade=\"B\"\n",
        "elif percentage>=50:\n",
        "  grade=\"C+\"\n",
        "elif percentage>=40:\n",
        "  grade=\"C\"\n",
        "else:\n",
        "  grade=\"F\"\n",
        "print(\"Grades:\",grade)"
      ],
      "metadata": {
        "colab": {
          "base_uri": "https://localhost:8080/"
        },
        "id": "8sGf33z_17Zl",
        "outputId": "02c047ef-7aeb-4c03-e2f5-50ad0bd8df0e"
      },
      "execution_count": null,
      "outputs": [
        {
          "output_type": "stream",
          "name": "stdout",
          "text": [
            "enter percentage:70\n",
            "Grades: B+\n"
          ]
        }
      ]
    },
    {
      "cell_type": "code",
      "source": [
        "#10. Write a Python program print a of values where the values are square of numbers between 1 and 20 (both included).\n",
        "def print_values():\n",
        "  l=list()\n",
        "  for i in range(1,21):\n",
        "    l.append(i**2)\n",
        "  print(0)\n",
        "  print_values()\n"
      ],
      "metadata": {
        "id": "inFQy-8pGUl3"
      },
      "execution_count": null,
      "outputs": []
    },
    {
      "cell_type": "code",
      "source": [
        "#11. Program to find the sum of the digits of a number\n",
        "num=input(\"enter number:\")\n",
        "sum=0\n",
        "for i in num:\n",
        "  sum=sum+int(i)\n",
        "print(sum)"
      ],
      "metadata": {
        "colab": {
          "base_uri": "https://localhost:8080/"
        },
        "id": "bSGsZArVLqy9",
        "outputId": "e8ef59be-f3f4-4d2a-ea3d-0a83ae1f5fd7"
      },
      "execution_count": null,
      "outputs": [
        {
          "output_type": "stream",
          "name": "stdout",
          "text": [
            "enter number:20\n",
            "2\n"
          ]
        }
      ]
    },
    {
      "cell_type": "code",
      "source": [
        "#12. Check whether a number is palindrome or not\n",
        "num=int(input(\"enter a number:\"))\n",
        "temp=num\n",
        "rev=0\n",
        "while(num>0):\n",
        "  dig=num%10\n",
        "  rev=rev*10+dig\n",
        "  num=num//10\n",
        "if(temp==rev):\n",
        "  print(\"the number is palindrome \")\n",
        "else: \n",
        "  print(\"not a palindrome\")"
      ],
      "metadata": {
        "colab": {
          "base_uri": "https://localhost:8080/"
        },
        "id": "3LqfE1H2MgwK",
        "outputId": "8746ceaf-3fb4-43ac-dc5f-a6c76d3f4b2c"
      },
      "execution_count": null,
      "outputs": [
        {
          "output_type": "stream",
          "name": "stdout",
          "text": [
            "enter a number:145541\n",
            "the number is palindrome \n"
          ]
        }
      ]
    },
    {
      "cell_type": "code",
      "source": [
        "#Additional Exercises\n",
        "#1. Write a Python program to guess a number between 1 and 9.(Hint:Use randint function from random\n",
        "import random\n",
        "a=int(input(\"enter a number\"))\n",
        "b=random.randint(1,10)\n",
        "while a!=b:\n",
        "  b=int(input(\"guess a number btw 1 to 10\"))\n",
        "print(\"well guessed\")"
      ],
      "metadata": {
        "colab": {
          "base_uri": "https://localhost:8080/"
        },
        "id": "MNnxrmSZPS1m",
        "outputId": "22a8c532-9bd4-476d-e32b-4aa29a87e09e"
      },
      "execution_count": null,
      "outputs": [
        {
          "output_type": "stream",
          "name": "stdout",
          "text": [
            "enter a number5\n",
            "well guessed\n"
          ]
        }
      ]
    },
    {
      "cell_type": "code",
      "source": [
        "#3. Program to print all permutations of the word ‘CAT’\n",
        "def get_permutations(string,i=0):\n",
        "  if i==len(string):\n",
        "    print(\"\".join(string))\n",
        "  for j in range (i,len(string)):\n",
        "    words=[c for c in string]\n",
        "    words[i],words[j]=words[j],words[i]\n",
        "    get_permutations(words,i+1)\n",
        "print(get_permutations('CAT'))"
      ],
      "metadata": {
        "id": "JVS_26-6QO_X",
        "colab": {
          "base_uri": "https://localhost:8080/"
        },
        "outputId": "ce45d7cf-25f6-412d-b624-1cb6533a8d8a"
      },
      "execution_count": 3,
      "outputs": [
        {
          "output_type": "stream",
          "name": "stdout",
          "text": [
            "CAT\n",
            "CTA\n",
            "ACT\n",
            "ATC\n",
            "TAC\n",
            "TCA\n",
            "None\n"
          ]
        }
      ]
    },
    {
      "cell_type": "code",
      "source": [
        "#4. Program to Print the calendar of given year and month\n",
        "import calendar\n",
        "year=int(input(\"enter the year\"))\n",
        "month=int(input(\"enter the month\"))\n",
        "print(calendar.month(year,month))\n"
      ],
      "metadata": {
        "id": "zhMKQS9kQdxb",
        "colab": {
          "base_uri": "https://localhost:8080/"
        },
        "outputId": "a7556672-97c5-40a8-dd37-0634d54a12bd"
      },
      "execution_count": 5,
      "outputs": [
        {
          "output_type": "stream",
          "name": "stdout",
          "text": [
            "enter the year2023\n",
            "enter the month10\n",
            "    October 2023\n",
            "Mo Tu We Th Fr Sa Su\n",
            "                   1\n",
            " 2  3  4  5  6  7  8\n",
            " 9 10 11 12 13 14 15\n",
            "16 17 18 19 20 21 22\n",
            "23 24 25 26 27 28 29\n",
            "30 31\n",
            "\n"
          ]
        }
      ]
    }
  ]
}